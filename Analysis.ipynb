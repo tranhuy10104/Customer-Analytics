{
 "cells": [
  {
   "cell_type": "markdown",
   "id": "e90c8e89",
   "metadata": {},
   "source": [
    "<H1> Customer Analysis <H1>"
   ]
  },
  {
   "cell_type": "code",
   "execution_count": 1,
   "id": "70b945dc",
   "metadata": {},
   "outputs": [],
   "source": [
    "# Import necessary libraries\n",
    "import pandas as pd\n",
    "import numpy as np\n",
    "import seaborn as sns\n",
    "import matplotlib.pyplot as plt"
   ]
  },
  {
   "cell_type": "code",
   "execution_count": 2,
   "id": "176ebdcc",
   "metadata": {},
   "outputs": [
    {
     "name": "stdout",
     "output_type": "stream",
     "text": [
      "DataFrame 1:\n",
      "    CustomerKey  GeographyKey  FirstName LastName  BirthDate MaritalStatus  \\\n",
      "0        11000            26        Jon     Yang  10/6/1971             M   \n",
      "1        11001            37     Eugene    Huang  5/10/1976             S   \n",
      "2        11002            31      Ruben   Torres   2/9/1971             M   \n",
      "3        11003            11    Christy      Zhu  8/14/1973             S   \n",
      "4        11004            19  Elizabeth  Johnson   8/5/1979             S   \n",
      "\n",
      "  Gender                    EmailAddress                Phone  \n",
      "0      M       jon24@adventure-works.com  1 (11) 500 555-0162  \n",
      "1      M    eugene10@adventure-works.com  1 (11) 500 555-0110  \n",
      "2      M     ruben35@adventure-works.com  1 (11) 500 555-0184  \n",
      "3      F   christy12@adventure-works.com  1 (11) 500 555-0162  \n",
      "4      F  elizabeth5@adventure-works.com  1 (11) 500 555-0131   \n",
      "\n",
      "DataFrame 2:\n",
      "     DateKey FullDateAlternateKey  DayNumberOfWeek EnglishDayNameOfWeek  \\\n",
      "0  20050101           2005-01-01                7             Saturday   \n",
      "1  20050102           2005-01-02                1               Sunday   \n",
      "2  20050103           2005-01-03                2               Monday   \n",
      "3  20050104           2005-01-04                3              Tuesday   \n",
      "4  20050105           2005-01-05                4            Wednesday   \n",
      "\n",
      "  SpanishDayNameOfWeek FrenchDayNameOfWeek  DayNumberOfMonth  DayNumberOfYear  \\\n",
      "0               Sábado              Samedi                 1                1   \n",
      "1              Domingo            Dimanche                 2                2   \n",
      "2                Lunes               Lundi                 3                3   \n",
      "3               Martes               Mardi                 4                4   \n",
      "4            Miércoles            Mercredi                 5                5   \n",
      "\n",
      "   WeekNumberOfYear EnglishMonthName SpanishMonthName FrenchMonthName  \\\n",
      "0                 1          January            Enero         Janvier   \n",
      "1                 2          January            Enero         Janvier   \n",
      "2                 2          January            Enero         Janvier   \n",
      "3                 2          January            Enero         Janvier   \n",
      "4                 2          January            Enero         Janvier   \n",
      "\n",
      "   MonthNumberOfYear  CalendarQuarter  CalendarYear  CalendarSemester  \\\n",
      "0                  1                1          2005                 1   \n",
      "1                  1                1          2005                 1   \n",
      "2                  1                1          2005                 1   \n",
      "3                  1                1          2005                 1   \n",
      "4                  1                1          2005                 1   \n",
      "\n",
      "   FiscalQuarter  FiscalYear  FiscalSemester  \n",
      "0              3        2005               2  \n",
      "1              3        2005               2  \n",
      "2              3        2005               2  \n",
      "3              3        2005               2  \n",
      "4              3        2005               2   \n",
      "\n",
      "DataFrame 3:\n",
      "    ProductKey  OrderDateKey  DueDateKey  ShipDateKey  CustomerKey  \\\n",
      "0         310      20101229    20110110     20110105        21768   \n",
      "1         346      20101229    20110110     20110105        28389   \n",
      "2         346      20101229    20110110     20110105        25863   \n",
      "3         336      20101229    20110110     20110105        14501   \n",
      "4         346      20101229    20110110     20110105        11003   \n",
      "\n",
      "   PromotionKey  CurrencyKey  SalesTerritoryKey SalesOrderNumber  \\\n",
      "0             1           19                  6          SO43697   \n",
      "1             1           39                  7          SO43698   \n",
      "2             1          100                  1          SO43699   \n",
      "3             1          100                  4          SO43700   \n",
      "4             1            6                  9          SO43701   \n",
      "\n",
      "   SalesOrderLineNumber  ...  ProductStandardCost  TotalProductCost  \\\n",
      "0                     1  ...            2171.2942         2171.2942   \n",
      "1                     1  ...            1912.1544         1912.1544   \n",
      "2                     1  ...            1912.1544         1912.1544   \n",
      "3                     1  ...             413.1463          413.1463   \n",
      "4                     1  ...            1912.1544         1912.1544   \n",
      "\n",
      "   SalesAmount    TaxAmt  Freight  CarrierTrackingNumber  CustomerPONumber  \\\n",
      "0    3578.2700  286.2616  89.4568                    NaN               NaN   \n",
      "1    3399.9900  271.9992  84.9998                    NaN               NaN   \n",
      "2    3399.9900  271.9992  84.9998                    NaN               NaN   \n",
      "3     699.0982   55.9279  17.4775                    NaN               NaN   \n",
      "4    3399.9900  271.9992  84.9998                    NaN               NaN   \n",
      "\n",
      "         OrderDate         DueDate       ShipDate  \n",
      "0  12/29/2010 0:00  1/10/2011 0:00  1/5/2011 0:00  \n",
      "1  12/29/2010 0:00  1/10/2011 0:00  1/5/2011 0:00  \n",
      "2  12/29/2010 0:00  1/10/2011 0:00  1/5/2011 0:00  \n",
      "3  12/29/2010 0:00  1/10/2011 0:00  1/5/2011 0:00  \n",
      "4  12/29/2010 0:00  1/10/2011 0:00  1/5/2011 0:00  \n",
      "\n",
      "[5 rows x 26 columns] \n",
      "\n",
      "DataFrame 4:\n",
      "    GeographyKey           City EnglishCountryRegionName\n",
      "0             1     Alexandria                Australia\n",
      "1             2  Coffs Harbour                Australia\n",
      "2             3   Darlinghurst                Australia\n",
      "3             4       Goulburn                Australia\n",
      "4             5      Lane Cove                Australia \n",
      "\n",
      "DataFrame 5:\n",
      "    ProductKey     EnglishProductName\n",
      "0           1        Adjustable Race\n",
      "1           2           Bearing Ball\n",
      "2           3        BB Ball Bearing\n",
      "3           4  Headset Ball Bearings\n",
      "4           5                  Blade \n",
      "\n",
      "DataFrame 6:\n",
      "    SalesTerritoryKey  SalesTerritoryAlternateKey SalesTerritoryRegion  \\\n",
      "0                  1                           1            Northwest   \n",
      "1                  2                           2            Northeast   \n",
      "2                  3                           3              Central   \n",
      "3                  4                           4            Southwest   \n",
      "4                  5                           5            Southeast   \n",
      "\n",
      "  SalesTerritoryCountry SalesTerritoryGroup  SalesTerritoryImage  \n",
      "0         United States       North America                  NaN  \n",
      "1         United States       North America                  NaN  \n",
      "2         United States       North America                  NaN  \n",
      "3         United States       North America                  NaN  \n",
      "4         United States       North America                  NaN   \n",
      "\n"
     ]
    }
   ],
   "source": [
    "# Import the dataset\n",
    "customer_data = pd.read_csv(\"D:\\DA\\DA PROJECT\\DA DATA\\Project 4\\Cleaned data\\cleaned_customer.csv\")\n",
    "date_data = pd.read_csv(\"D:\\DA\\DA PROJECT\\DA DATA\\Project 4\\Cleaned data\\cleaned_date.csv\")\n",
    "fact_internet_sales = pd.read_csv(\"D:\\DA\\DA PROJECT\\DA DATA\\Project 4\\Cleaned data\\cleaned_fact_internet_sales.csv\")\n",
    "geography_data = pd.read_csv(\"D:\\DA\\DA PROJECT\\DA DATA\\Project 4\\Cleaned data\\cleaned_geography.csv\")\n",
    "product_data = pd.read_csv(\"D:\\DA\\DA PROJECT\\DA DATA\\Project 4\\Cleaned data\\cleaned_product.csv\") \n",
    "sales_territory_data = pd.read_csv(\"D:\\DA\\DA PROJECT\\DA DATA\\Project 4\\Cleaned data\\cleaned_sales_territory.csv\") \n",
    "\n",
    "# List of DataFrames\n",
    "df = [customer_data, date_data, fact_internet_sales, geography_data, product_data, sales_territory_data]\n",
    "\n",
    "# Displey the first few rows of each dataset\n",
    "for i, df in enumerate(df):\n",
    "    print(f\"DataFrame {i+1}:\\n\", df.head(), \"\\n\")"
   ]
  },
  {
   "cell_type": "code",
   "execution_count": 3,
   "id": "54189725",
   "metadata": {},
   "outputs": [
    {
     "name": "stdout",
     "output_type": "stream",
     "text": [
      "Column in the merged DataFrame: \n",
      " ['ProductKey', 'OrderDateKey', 'DueDateKey', 'ShipDateKey', 'CustomerKey', 'PromotionKey', 'CurrencyKey', 'SalesTerritoryKey', 'SalesOrderNumber', 'SalesOrderLineNumber', 'RevisionNumber', 'OrderQuantity', 'UnitPrice', 'ExtendedAmount', 'UnitPriceDiscountPct', 'DiscountAmount', 'ProductStandardCost', 'TotalProductCost', 'SalesAmount', 'TaxAmt', 'Freight', 'CarrierTrackingNumber', 'CustomerPONumber', 'OrderDate', 'DueDate', 'ShipDate', 'DateKey', 'FullDateAlternateKey', 'DayNumberOfWeek', 'EnglishDayNameOfWeek', 'SpanishDayNameOfWeek', 'FrenchDayNameOfWeek', 'DayNumberOfMonth', 'DayNumberOfYear', 'WeekNumberOfYear', 'EnglishMonthName', 'SpanishMonthName', 'FrenchMonthName', 'MonthNumberOfYear', 'CalendarQuarter', 'CalendarYear', 'CalendarSemester', 'FiscalQuarter', 'FiscalYear', 'FiscalSemester']\n"
     ]
    }
   ],
   "source": [
    "# Meger the DataFrames\n",
    "df = fact_internet_sales.merge(date_data, left_on='OrderDateKey', right_on= 'DateKey' , how='left')\n",
    "\n",
    "# Print the column names of the merged DataFrame\n",
    "print(\"Column in the merged DataFrame: \\n\", df.columns.tolist())"
   ]
  },
  {
   "cell_type": "code",
   "execution_count": 4,
   "id": "f5036686",
   "metadata": {},
   "outputs": [],
   "source": [
    "\n",
    "# Create a column date that reflects the date of the order\n",
    "df['OrderDate'] = pd.to_datetime(df['FullDateAlternateKey'])"
   ]
  },
  {
   "cell_type": "code",
   "execution_count": 5,
   "id": "3cdb94f6",
   "metadata": {},
   "outputs": [],
   "source": [
    "# Assume that the last day of order is the last order date, then +1 day is the next day that is the day to use for calculating re\n",
    "snapshot_date = df['OrderDate'].max() + pd.Timedelta(days=1)"
   ]
  },
  {
   "cell_type": "code",
   "execution_count": 6,
   "id": "29cb1287",
   "metadata": {},
   "outputs": [
    {
     "name": "stdout",
     "output_type": "stream",
     "text": [
      "RFM DataFrame:\n",
      "     CustomerKey  Recency  Frequency  Monetary\n",
      "0         11000      271          3   8248.99\n",
      "1         11001       50          3   6383.88\n",
      "2         11002      340          3   8114.04\n",
      "3         11003      264          3   8139.29\n",
      "4         11004      273          3   8196.01\n",
      "..          ...      ...        ...       ...\n",
      "95        11095      218          3   8158.01\n",
      "96        11096      183          3   8063.04\n",
      "97        11097      189          3   8099.03\n",
      "98        11098      105          3     88.96\n",
      "99        11099      212          3   8215.99\n",
      "\n",
      "[100 rows x 4 columns]\n",
      "Total number of customers: 18484\n"
     ]
    }
   ],
   "source": [
    "# Group by customer key and calculate RFM metrics\n",
    "rfm = df.groupby('CustomerKey').agg({\n",
    "    'OrderDate': lambda x: (snapshot_date - x.max()).days,  # Recency\n",
    "    'SalesOrderNumber': 'nunique',  # Frequency\n",
    "    'SalesAmount': 'sum'  # Monetary\n",
    "})\n",
    "\n",
    "# Rename the columns\n",
    "rfm.rename(columns={\n",
    "    'CustomerKey': 'Customer',\n",
    "    'OrderDate' : 'Recency',\n",
    "    'SalesOrderNumber': 'Frequency',\n",
    "    'SalesAmount': 'Monetary'}, inplace = True\n",
    ")\n",
    "\n",
    "# Convert Customer from index to a column   \n",
    "rfm = rfm.reset_index()\n",
    "print(\"RFM DataFrame:\\n\", rfm.head(100))\n",
    "\n",
    "# Total row count\n",
    "print(\"Total number of customers:\", rfm.shape[0])"
   ]
  },
  {
   "cell_type": "code",
   "execution_count": 7,
   "id": "d499804b",
   "metadata": {},
   "outputs": [
    {
     "name": "stdout",
     "output_type": "stream",
     "text": [
      "RFM DataFrame: \n",
      "     CustomerKey  Recency  Frequency  Monetary R_Score F_Score M_Score  \\\n",
      "0         11000      271          3   8248.99       2       5       5   \n",
      "1         11001       50          3   6383.88       5       5       5   \n",
      "2         11002      340          3   8114.04       1       5       5   \n",
      "3         11003      264          3   8139.29       2       5       5   \n",
      "4         11004      273          3   8196.01       2       5       5   \n",
      "..          ...      ...        ...       ...     ...     ...     ...   \n",
      "95        11095      218          3   8158.01       2       5       5   \n",
      "96        11096      183          3   8063.04       3       5       5   \n",
      "97        11097      189          3   8099.03       3       5       5   \n",
      "98        11098      105          3     88.96       4       5       2   \n",
      "99        11099      212          3   8215.99       2       5       5   \n",
      "\n",
      "   RFM_Score  \n",
      "0        255  \n",
      "1        555  \n",
      "2        155  \n",
      "3        255  \n",
      "4        255  \n",
      "..       ...  \n",
      "95       255  \n",
      "96       355  \n",
      "97       355  \n",
      "98       452  \n",
      "99       255  \n",
      "\n",
      "[100 rows x 8 columns]\n"
     ]
    }
   ],
   "source": [
    "# Segment the customers based on RFM scores\n",
    "rfm['R_Score'] = pd.qcut(rfm['Recency'], 5, labels=[5, 4, 3, 2, 1])  # Higher recency gets a lower score\n",
    "rfm['F_Score'] = pd.qcut(rfm['Frequency'].rank(method = 'first'), 5, labels=[1, 2, 3, 4, 5])  # Higher frequency gets a higher score\n",
    "rfm['M_Score'] = pd.qcut(rfm['Monetary'], 5, labels=[1, 2, 3, 4, 5])  # Higher monetary gets a higher score\n",
    "\n",
    "\n",
    "\n",
    "rfm['RFM_Score'] = rfm['R_Score'].astype(str) + rfm['F_Score'].astype(str) + rfm['M_Score'].astype(str)\n",
    "# Display the RFM DataFrame with scores\n",
    "print(\"RFM DataFrame: \\n\", rfm.head(100))"
   ]
  },
  {
   "cell_type": "code",
   "execution_count": 8,
   "id": "92cf6269",
   "metadata": {},
   "outputs": [
    {
     "name": "stdout",
     "output_type": "stream",
     "text": [
      "Data Frame with Segments: \n",
      "     CustomerKey  Recency  Frequency  Monetary R_Score F_Score M_Score  \\\n",
      "0         11000      271          3   8248.99       2       5       5   \n",
      "1         11001       50          3   6383.88       5       5       5   \n",
      "2         11002      340          3   8114.04       1       5       5   \n",
      "3         11003      264          3   8139.29       2       5       5   \n",
      "4         11004      273          3   8196.01       2       5       5   \n",
      "..          ...      ...        ...       ...     ...     ...     ...   \n",
      "95        11095      218          3   8158.01       2       5       5   \n",
      "96        11096      183          3   8063.04       3       5       5   \n",
      "97        11097      189          3   8099.03       3       5       5   \n",
      "98        11098      105          3     88.96       4       5       2   \n",
      "99        11099      212          3   8215.99       2       5       5   \n",
      "\n",
      "   RFM_Score             Segment  \n",
      "0        255             At Risk  \n",
      "1        555           Champions  \n",
      "2        155     Can't Lose Them  \n",
      "3        255             At Risk  \n",
      "4        255             At Risk  \n",
      "..       ...                 ...  \n",
      "95       255             At Risk  \n",
      "96       355     Loyal Customers  \n",
      "97       355     Loyal Customers  \n",
      "98       452  Potential Loyalist  \n",
      "99       255             At Risk  \n",
      "\n",
      "[100 rows x 9 columns]\n"
     ]
    }
   ],
   "source": [
    "# Create a dictionary to map RFM scores to segments customers\n",
    "\n",
    "segment_map = {\n",
    "    'Champions': ['555', '554', '545', '544', '455', '454', '445'],\n",
    "    'Loyal Customers': ['543', '444', '435', '355', '354', '345', '344', '335'],\n",
    "    'Potential Loyalist': ['553', '551', '552', '541', '542', '533', '532', '531', '452', '451', '442', '441', \n",
    "                           '431', '453', '433', '432', '423', '425', '352', '351', '342', '341', '333', '323'],\n",
    "    'Recent Customers': ['512', '511', '422', '421', '412', '411', '311'],\n",
    "    'Promising': ['525', '524', '523', '522', '521', '515', '514', '513', '425', '424', '413', '414', '415', '315'],\n",
    "    'Customers Needing Attention': ['535', '534', '443', '434', '343', '334', '325', '324'],\n",
    "    'About To Sleep': ['331', '321', '312', '221', '213'],\n",
    "    'At Risk': ['255', '254', '245', '244', '253', '252', '243', '242', '235', '234', '225', '224', '153', '152',\n",
    "                '145', '143', '142', '135', '134', '133', '125', '124'],\n",
    "    'Can\\'t Lose Them': ['155', '154', '144', '214', '215', '115', '114', '113'],\n",
    "    'Hibernating': ['332', '322', '321', '241', '251', '233', '232', '223', '222', '132', '123', '122', '212', '211'],\n",
    "    'Lost': ['111', '112', '121', '131', '141', '151']\n",
    "}\n",
    "\n",
    "# Function to assign segments based on RFM score\n",
    "def map_segment(rfm_score):\n",
    "    for segment, scores in segment_map.items():\n",
    "        if rfm_score in scores:\n",
    "            return segment\n",
    "    return 'Others'\n",
    "\n",
    "# Apply the mapping function to create a new column for segments\n",
    "rfm['Segment'] = rfm['RFM_Score'].apply(map_segment)\n",
    "\n",
    "# Display the RFM DataFrame with segments\n",
    "print('Data Frame with Segments: \\n', rfm.head(100))"
   ]
  },
  {
   "cell_type": "code",
   "execution_count": 9,
   "id": "fe480b09",
   "metadata": {},
   "outputs": [
    {
     "data": {
      "image/png": "[encoded data removed]",
      "text/plain": [
       "<Figure size 1000x600 with 1 Axes>"
      ]
     },
     "metadata": {},
     "output_type": "display_data"
    }
   ],
   "source": [
    "# Visualize statistics of RFM scores\n",
    "rfm['Segment'].value_counts().plot(kind='barh', figsize = (10, 6), color='skyblue', title = 'Phân bố khách hàng theo phân khúc dựa trên RFM scores')\n",
    "\n",
    "# Add labels to the bars\n",
    "plt.xlabel('Number of Customers')\n",
    "plt.ylabel('Customer Segments')\n",
    "\n",
    "# Add labels to each bar\n",
    "for index, value in enumerate(rfm['Segment'].value_counts()):\n",
    "    plt.text(value, index, str(value))"
   ]
  },
  {
   "cell_type": "code",
   "execution_count": 10,
   "id": "1718effd",
   "metadata": {},
   "outputs": [],
   "source": [
    "# Export the RFM DataFrame to a CSV file\n",
    "rfm.to_csv(\"D:\\DA\\DA PROJECT\\DA DATA\\Project 4\\Cleaned data\\\\rfm.csv\", index=False)"
   ]
  },
  {
   "cell_type": "code",
   "execution_count": null,
   "id": "19a1a8ab",
   "metadata": {},
   "outputs": [],
   "source": []
  }
 ],
 "metadata": {
  "kernelspec": {
   "display_name": "base",
   "language": "python",
   "name": "python3"
  },
  "language_info": {
   "codemirror_mode": {
    "name": "ipython",
    "version": 3
   },
   "file_extension": ".py",
   "mimetype": "text/x-python",
   "name": "python",
   "nbconvert_exporter": "python",
   "pygments_lexer": "ipython3",
   "version": "3.11.5"
  }
 },
 "nbformat": 4,
 "nbformat_minor": 5
}
